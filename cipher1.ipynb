{
 "cells": [
  {
   "cell_type": "code",
   "execution_count": 5,
   "metadata": {},
   "outputs": [
    {
     "name": "stdout",
     "output_type": "stream",
     "text": [
      "Plaintext: 0x1234\n",
      "Ciphertext: 0x8128\n"
     ]
    }
   ],
   "source": [
    "# S-Box (fixed mapping based on the table)\n",
    "S_BOX = {\n",
    "    0x0: 0xE, 0x1: 0x4, 0x2: 0xD, 0x3: 0x1,\n",
    "    0x4: 0x2, 0x5: 0xF, 0x6: 0xB, 0x7: 0x8,\n",
    "    0x8: 0x3, 0x9: 0xA, 0xA: 0x6, 0xB: 0xC,\n",
    "    0xC: 0x5, 0xD: 0x9, 0xE: 0x0, 0xF: 0x7\n",
    "}\n",
    "\n",
    "#P-box permutation (transposition of bits)\n",
    "P_BOX = [1, 5, 9, 13, 2, 6, 10, 14, 3, 7, 11, 15, 4, 8, 12, 16]\n",
    "\n",
    "# Example Subkeys\n",
    "SUBKEYS = [0x1F2A, 0x3C4D, 0x5E6F]\n",
    "\n",
    "def s_box_substituion(nibble):\n",
    "    \"\"\" Substitutes a 4-bit nibbke using the S-Box \"\"\"\n",
    "    return S_BOX[nibble]\n",
    "\n",
    "def permutaion(block):\n",
    "    \"\"\" Permutes a 16-bit block using the P-box \"\"\"\n",
    "    return sum(((block >> (i)) & 1) << (P_BOX[i] - 1) for i in range(16))\n",
    "\n",
    "def key_mixing(block, subkey):\n",
    "    \"\"\" Mixes a 16-bit block with a 16-bit subkey \"\"\"\n",
    "    return block ^ subkey\n",
    "\n",
    "def round_function(block, subkey):\n",
    "    \"\"\" Performs the operation of a single round: Substitution, Permutation, and Key Mixing \"\"\"\n",
    "    # Split block into 4 nibbles\n",
    "    nibbles = [(block >> (i * 4)) & 0xF for i in range(4)]\n",
    "    \n",
    "    # Apply substitution to each nibble\n",
    "    substituted = [s_box_substituion(nibble) for nibble in nibbles]\n",
    "    \n",
    "    # Concatenate the nibbles into a 16-bit block\n",
    "    substituted_block = sum(substituted[i] << (i * 4) for i in range(4))\n",
    "    \n",
    "    # Permute the 16-bit block\n",
    "    block = permutaion(substituted_block)\n",
    "    \n",
    "    # Mix the block with the subkey\n",
    "    mix_block = key_mixing(block, subkey)\n",
    "    \n",
    "    return mix_block\n",
    "\n",
    "def encrypt_block(plaintext):\n",
    "    \"\"\" Encrypts a single block of plaintext using SPN cipher \"\"\"    \n",
    "    block = plaintext\n",
    "    for subkey in SUBKEYS:\n",
    "        block = round_function(block, subkey)\n",
    "    return block\n",
    "\n",
    "if __name__ == \"__main__\":\n",
    "    plaintext = 0x1234\n",
    "    ciphertext = encrypt_block(plaintext)\n",
    "    print(f\"Plaintext: {hex(plaintext)}\")\n",
    "    print(f\"Ciphertext: {hex(ciphertext)}\")\n",
    "\n",
    "\n",
    "\n"
   ]
  },
  {
   "cell_type": "code",
   "execution_count": 6,
   "metadata": {},
   "outputs": [
    {
     "name": "stdout",
     "output_type": "stream",
     "text": [
      "Plaintext: 0x1234\n",
      "Ciphertext: 0x8128\n",
      "Decrypted Text: 0x1234\n"
     ]
    }
   ],
   "source": [
    "# Inverse S-box (inverse mapping of provided S-box)\n",
    "INVERSE_S_BOX = {v: k for k, v in S_BOX.items()}\n",
    "\n",
    "def inv_s_box_substitution(nibble):\n",
    "    \"\"\"Substitutes a 4-bit nibble using the inverse S-Box\"\"\"\n",
    "    return INVERSE_S_BOX[nibble]\n",
    "\n",
    "def inverse_permutation(block):\n",
    "    \"\"\"Permutes a 16-bit block using the inverse P-box\"\"\"\n",
    "    return sum(((block >> (P_BOX.index(i))) & 1) << (i - 1) for i in range(1, 17))\n",
    "\n",
    "def inv_round_function(block, subkey):\n",
    "    \"\"\"Performs the inverse operation of a single round\"\"\"\n",
    "    # First, undo the key mixing (XOR is its own inverse)\n",
    "    block = block ^ subkey\n",
    "    \n",
    "    # Undo the permutation\n",
    "    block = inverse_permutation(block)\n",
    "    \n",
    "    # Split block into 4 nibbles\n",
    "    nibbles = [(block >> (i * 4)) & 0xF for i in range(4)]\n",
    "    \n",
    "    # Apply inverse substitution to each nibble\n",
    "    inverted = [inv_s_box_substitution(nibble) for nibble in nibbles]\n",
    "    \n",
    "    # Concatenate the nibbles into a 16-bit block\n",
    "    block = sum(inverted[i] << (i * 4) for i in range(4))\n",
    "    \n",
    "    return block\n",
    "\n",
    "def decrypt(ciphertext):\n",
    "    \"\"\"Decrypts a single block of ciphertext using SPN cipher\"\"\"\n",
    "    block = ciphertext\n",
    "    \n",
    "    # Process in reverse order of subkeys\n",
    "    for subkey in reversed(SUBKEYS):\n",
    "        block = inv_round_function(block, subkey)\n",
    "    \n",
    "    return block\n",
    "\n",
    "if __name__ == \"__main__\":\n",
    "    plaintext = 0x1234\n",
    "    ciphertext = encrypt_block(plaintext)\n",
    "    decrypted_text = decrypt(ciphertext)\n",
    "    print(f\"Plaintext: {hex(plaintext)}\")\n",
    "    print(f\"Ciphertext: {hex(ciphertext)}\")\n",
    "    print(f\"Decrypted Text: {hex(decrypted_text)}\")"
   ]
  },
  {
   "cell_type": "code",
   "execution_count": null,
   "metadata": {},
   "outputs": [],
   "source": []
  }
 ],
 "metadata": {
  "kernelspec": {
   "display_name": "base",
   "language": "python",
   "name": "python3"
  },
  "language_info": {
   "codemirror_mode": {
    "name": "ipython",
    "version": 3
   },
   "file_extension": ".py",
   "mimetype": "text/x-python",
   "name": "python",
   "nbconvert_exporter": "python",
   "pygments_lexer": "ipython3",
   "version": "3.9.13"
  }
 },
 "nbformat": 4,
 "nbformat_minor": 2
}
